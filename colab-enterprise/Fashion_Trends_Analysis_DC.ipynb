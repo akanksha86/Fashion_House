{
  "cells": [
    {
      "cell_type": "markdown",
      "metadata": {
        "id": "YIPcJow7LzYm"
      },
      "source": [
        "\n",
        "# Notebook representing Data Canvas Example for Trending Products"
      ]
    },
    {
      "cell_type": "code",
      "execution_count": null,
      "metadata": {
        "id": "bIw82qhuHWy0"
      },
      "outputs": [],
      "source": [
        "# @title Inspect the schema of fashion_data.sales_forecast\n",
        "from google.cloud import bigquery\n",
        "\n",
        "# Construct a BigQuery client object.\n",
        "client = bigquery.Client()\n",
        "\n",
        "# Fetch the table\n",
        "table = client.get_table('$project_id.fashion_data.sales_forecast')\n",
        "\n",
        "# View table info\n",
        "print(\"{} rows\".format(table.num_rows))\n",
        "for row in table.schema:\n",
        "  print(\"Column {}: {}\".format(row.name, row.field_type))\n"
      ]
    },
    {
      "cell_type": "code",
      "execution_count": null,
      "metadata": {
        "id": "Fjf3EureEEVL"
      },
      "outputs": [],
      "source": [
        "# @title Setup bigquery client and formatting\n",
        "from google.cloud import bigquery\n",
        "from google.colab import data_table\n",
        "\n",
        "project = '$project_id' # Project ID inserted based on the query results selected to explore\n",
        "client = bigquery.Client(project=project)\n",
        "data_table.enable_dataframe_formatter()"
      ]
    },
    {
      "cell_type": "code",
      "execution_count": null,
      "metadata": {
        "id": "FOMr136yEEVM"
      },
      "outputs": [],
      "source": [
        "# @title Executes the query\n",
        "\n",
        "sql = '''SELECT\n",
        "product_name,\n",
        "extract(year from forecast_timestamp),\n",
        "extract(month from forecast_timestamp),\n",
        "sum(forecast_value)\n",
        "FROM `fashion_data.sales_forecast`\n",
        "where product_name in ('Denim Jacket','Denim Shacket')\n",
        "and extract(month from forecast_timestamp) in (4,5,6)\n",
        "group by 1,2,3\n",
        "order by 4 desc'''\n",
        "query = client.query(sql)\n",
        "query\n",
        "# @title Render the query results\n",
        "\n",
        "job = client.get_job(query.job_id)\n",
        "df = job.to_dataframe()\n",
        "df\n"
      ]
    },
    {
      "cell_type": "code",
      "execution_count": null,
      "metadata": {
        "id": "DeGBFYC8EEVM"
      },
      "outputs": [],
      "source": [
        "# @title Executes the query\n",
        "\n",
        "sql1 = '''    SELECT\n",
        "      *\n",
        "    FROM\n",
        "      ML.FORECAST(MODEL `fashion_data.sales_forecast_model`,\n",
        "                  STRUCT(30 AS horizon,\n",
        "                         0.90 AS confidence_level)\n",
        "                 )'''\n",
        "query1 = client.query(sql1)\n",
        "query1\n",
        "# @title Render the query results\n",
        "\n",
        "job1 = client.get_job(query1.job_id)\n",
        "df1 = job1.to_dataframe()\n",
        "df1\n"
      ]
    },
    {
      "cell_type": "code",
      "execution_count": null,
      "metadata": {
        "id": "8BG2S8KQHSat"
      },
      "outputs": [],
      "source": [
        "from matplotlib import pyplot as plt\n",
        "import seaborn as sns\n",
        "def _plot_series(series, series_name, series_index=0):\n",
        "  palette = list(sns.palettes.mpl_palette('Dark2'))\n",
        "  xs = series['forecast_timestamp']\n",
        "  ys = series['forecast_value']\n",
        "\n",
        "  plt.plot(xs, ys, label=series_name, color=palette[series_index % len(palette)])\n",
        "\n",
        "fig, ax = plt.subplots(figsize=(10, 5.2), layout='constrained')\n",
        "df_sorted = _df_30.sort_values('forecast_timestamp', ascending=True)\n",
        "for i, (series_name, series) in enumerate(df_sorted.groupby('product_name')):\n",
        "  _plot_series(series, series_name, i)\n",
        "  fig.legend(title='product_name', bbox_to_anchor=(1, 1), loc='upper left')\n",
        "sns.despine(fig=fig, ax=ax)\n",
        "plt.xlabel('forecast_timestamp')\n",
        "_ = plt.ylabel('forecast_value')"
      ]
    },
    {
      "cell_type": "code",
      "execution_count": null,
      "metadata": {
        "id": "6fsrVPp7EEVN"
      },
      "outputs": [],
      "source": [
        "# @title Inspect the schema of fashion_data.historical_sales\n",
        "from google.cloud import bigquery\n",
        "\n",
        "# Construct a BigQuery client object.\n",
        "client = bigquery.Client()\n",
        "\n",
        "# Fetch the table\n",
        "table = client.get_table('$project_id.fashion_data.historical_sales')\n",
        "\n",
        "# View table info\n",
        "print(\"{} rows\".format(table.num_rows))\n",
        "for row in table.schema:\n",
        "  print(\"Column {}: {}\".format(row.name, row.field_type))\n"
      ]
    },
    {
      "cell_type": "code",
      "execution_count": null,
      "metadata": {
        "id": "HUEPtoTuEEVN"
      },
      "outputs": [],
      "source": [
        "# @title Inspect the schema of fashion_data.trending_product\n",
        "from google.cloud import bigquery\n",
        "\n",
        "# Construct a BigQuery client object.\n",
        "client = bigquery.Client()\n",
        "\n",
        "# Fetch the table\n",
        "table = client.get_table('$project_id.fashion_data.trending_product')\n",
        "\n",
        "# View table info\n",
        "print(\"{} rows\".format(table.num_rows))\n",
        "for row in table.schema:\n",
        "  print(\"Column {}: {}\".format(row.name, row.field_type))\n"
      ]
    },
    {
      "cell_type": "code",
      "execution_count": null,
      "metadata": {
        "id": "HO16z9EgEEVN"
      },
      "outputs": [],
      "source": [
        "# @title Executes the query\n",
        "\n",
        "sql2 = '''# prompt: sales for denim jacket every week\n",
        "\n",
        "SELECT\n",
        "  EXTRACT(WEEK\n",
        "  FROM\n",
        "    historical_sales.order_datetime) AS week_number,\n",
        "  SUM(historical_sales.total_sales_amount) AS total_sales\n",
        "FROM\n",
        "  `fashion_data.historical_sales` AS historical_sales\n",
        "WHERE\n",
        "  historical_sales.product_name = 'Denim Jacket'\n",
        "GROUP BY\n",
        "  1'''\n",
        "query2 = client.query(sql2)\n",
        "query2\n",
        "# @title Render the query results\n",
        "\n",
        "job2 = client.get_job(query2.job_id)\n",
        "df2 = job2.to_dataframe()\n",
        "df2\n"
      ]
    },
    {
      "cell_type": "code",
      "execution_count": null,
      "metadata": {
        "id": "Il_35lrSHnCA"
      },
      "outputs": [],
      "source": [
        "from matplotlib import pyplot as plt\n",
        "_df_43['week_number'].plot(kind='hist', bins=20, title='week_number')\n",
        "plt.gca().spines[['top', 'right',]].set_visible(False)"
      ]
    },
    {
      "cell_type": "code",
      "execution_count": null,
      "metadata": {
        "id": "FFQIkRJOEEVO"
      },
      "outputs": [],
      "source": [
        "# @title Executes the query\n",
        "\n",
        "sql3 = '''# prompt: show me top trending products and their descriptions\n",
        "\n",
        "SELECT\n",
        "  trending_product.product_name,\n",
        "  trending_product.product_description\n",
        "FROM\n",
        "  `fashion_data.trending_product` AS trending_product\n",
        "ORDER BY\n",
        "  trending_product.product_price DESC\n",
        "LIMIT\n",
        "  10'''\n",
        "query3 = client.query(sql3)\n",
        "query3\n",
        "# @title Render the query results\n",
        "\n",
        "job3 = client.get_job(query3.job_id)\n",
        "df3 = job3.to_dataframe()\n",
        "df3\n"
      ]
    }
  ],
  "metadata": {
    "colab": {
      "name": "Fashion_Trends_Analysis_DC",
      "provenance": []
    },
    "kernelspec": {
      "display_name": "Python 3",
      "name": "python3"
    },
    "language_info": {
      "name": "python"
    }
  },
  "nbformat": 4,
  "nbformat_minor": 0
}
